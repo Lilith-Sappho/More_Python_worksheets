{
  "cells": [
    {
      "cell_type": "markdown",
      "metadata": {
        "id": "view-in-github",
        "colab_type": "text"
      },
      "source": [
        "<a href=\"https://colab.research.google.com/github/Lilith-Sappho/More_Python_worksheets/blob/main/PY0101EN_3_3_Functions_.ipynb\" target=\"_parent\"><img src=\"https://colab.research.google.com/assets/colab-badge.svg\" alt=\"Open In Colab\"/></a>"
      ]
    },
    {
      "cell_type": "markdown",
      "metadata": {
        "id": "JQPwW-X0QgFJ"
      },
      "source": [
        "<p style=\"text-align:center\">\n",
        "    <a href=\"https://skills.network/?utm_medium=Exinfluencer&utm_source=Exinfluencer&utm_content=000026UJ&utm_term=10006555&utm_id=NA-SkillsNetwork-Channel-SkillsNetworkCoursesIBMDeveloperSkillsNetworkPY0101ENSkillsNetwork19487395-2022-01-01\" target=\"_blank\">\n",
        "    <img src=\"https://cf-courses-data.s3.us.cloud-object-storage.appdomain.cloud/assets/logos/SN_web_lightmode.png\" width=\"200\" alt=\"Skills Network Logo\"  />\n",
        "    </a>\n",
        "</p>\n",
        "\n",
        "# Functions in Python\n",
        "\n",
        "Estimated time needed: **40** minutes\n",
        "\n",
        "## Objectives\n",
        "\n",
        "After completing this lab you will be able to:\n",
        "\n",
        "*   Understand functions and variables\n",
        "*   Work with functions and variables\n"
      ]
    },
    {
      "cell_type": "markdown",
      "metadata": {
        "id": "5WWdg5FcQgFV"
      },
      "source": [
        "<h1>Functions in Python</h1>\n"
      ]
    },
    {
      "cell_type": "markdown",
      "metadata": {
        "id": "RQk3Aac1QgFW"
      },
      "source": [
        "<p><strong>Welcome!</strong> This notebook will teach you about the functions in the Python Programming Language. By the end of this lab, you'll know the basic concepts about function, variables, and how to use functions.</p>\n"
      ]
    },
    {
      "cell_type": "markdown",
      "metadata": {
        "id": "EXFtWNAOQgFW"
      },
      "source": [
        "<h2>Table of Contents</h2>\n",
        "<div class=\"alert alert-block alert-info\" style=\"margin-top: 20px\">\n",
        "    <ul>\n",
        "        <li>\n",
        "            <a href=\"https://#func\">Functions</a>\n",
        "            <ul>\n",
        "                <li><a href=\"https://content/?utm_medium=Exinfluencer&utm_source=Exinfluencer&utm_content=000026UJ&utm_term=10006555&utm_id=NA-SkillsNetwork-Channel-SkillsNetworkCoursesIBMDeveloperSkillsNetworkPY0101ENSkillsNetwork19487395-2022-01-01\">What is a function?</a></li>\n",
        "                <li><a href=\"https://var/?utm_medium=Exinfluencer&utm_source=Exinfluencer&utm_content=000026UJ&utm_term=10006555&utm_id=NA-SkillsNetwork-Channel-SkillsNetworkCoursesIBMDeveloperSkillsNetworkPY0101ENSkillsNetwork19487395-2022-01-01\">Variables</a></li>\n",
        "                <li><a href=\"https://simple/?utm_medium=Exinfluencer&utm_source=Exinfluencer&utm_content=000026UJ&utm_term=10006555&utm_id=NA-SkillsNetwork-Channel-SkillsNetworkCoursesIBMDeveloperSkillsNetworkPY0101ENSkillsNetwork19487395-2022-01-01\">Functions Make Things Simple</a></li>\n",
        "            </ul>\n",
        "        </li>\n",
        "        <li><a href=\"https://pre/?utm_medium=Exinfluencer&utm_source=Exinfluencer&utm_content=000026UJ&utm_term=10006555&utm_id=NA-SkillsNetwork-Channel-SkillsNetworkCoursesIBMDeveloperSkillsNetworkPY0101ENSkillsNetwork19487395-2022-01-01\">Pre-defined functions</a></li>\n",
        "        <li><a href=\"https://if/?utm_medium=Exinfluencer&utm_source=Exinfluencer&utm_content=000026UJ&utm_term=10006555&utm_id=NA-SkillsNetwork-Channel-SkillsNetworkCoursesIBMDeveloperSkillsNetworkPY0101ENSkillsNetwork19487395-2022-01-01\">Using <code>if</code>/<code>else</code> Statements and Loops in Functions</a></li>\n",
        "        <li><a href=\"https://default/?utm_medium=Exinfluencer&utm_source=Exinfluencer&utm_content=000026UJ&utm_term=10006555&utm_id=NA-SkillsNetwork-Channel-SkillsNetworkCoursesIBMDeveloperSkillsNetworkPY0101ENSkillsNetwork19487395-2022-01-01\">Setting default argument values in your custom functions</a></li>\n",
        "        <li><a href=\"https://global/?utm_medium=Exinfluencer&utm_source=Exinfluencer&utm_content=000026UJ&utm_term=10006555&utm_id=NA-SkillsNetwork-Channel-SkillsNetworkCoursesIBMDeveloperSkillsNetworkPY0101ENSkillsNetwork19487395-2022-01-01\">Global variables</a></li>\n",
        "        <li><a href=\"https://scope/?utm_medium=Exinfluencer&utm_source=Exinfluencer&utm_content=000026UJ&utm_term=10006555&utm_id=NA-SkillsNetwork-Channel-SkillsNetworkCoursesIBMDeveloperSkillsNetworkPY0101ENSkillsNetwork19487395-2022-01-01\">Scope of a Variable</a></li>\n",
        "        <li><a href=\"https://collec/?utm_medium=Exinfluencer&utm_source=Exinfluencer&utm_content=000026UJ&utm_term=10006555&utm_id=NA-SkillsNetwork-Channel-SkillsNetworkCoursesIBMDeveloperSkillsNetworkPY0101ENSkillsNetwork19487395-2022-01-01\">Collections and Functions</a></li>\n",
        "        <li>\n",
        "            <a href=\"https://#quiz\">Quiz on Loops</a>\n",
        "        </li>\n",
        "    </ul>\n",
        "\n",
        "</div>\n",
        "\n",
        "<hr>\n"
      ]
    },
    {
      "cell_type": "markdown",
      "metadata": {
        "id": "h_UU_74yQgFb"
      },
      "source": [
        "<h2 id=\"func\">Functions</h2>\n"
      ]
    },
    {
      "cell_type": "markdown",
      "metadata": {
        "id": "Cvt9ya1CQgFc"
      },
      "source": [
        "A function is a reusable block of code which performs operations specified in the function. They let you break down tasks and allow you to reuse your code in different programs.\n",
        "\n",
        "There are two types of functions :\n",
        "\n",
        "*   <b>Pre-defined functions</b>\n",
        "*   <b>User defined functions</b>\n"
      ]
    },
    {
      "cell_type": "markdown",
      "metadata": {
        "id": "EVbXf5rNQgFd"
      },
      "source": [
        "<h3 id=\"content\">What is a Function?</h3>\n"
      ]
    },
    {
      "cell_type": "markdown",
      "metadata": {
        "id": "A1qrV22QQgFf"
      },
      "source": [
        "You can define functions to provide the required functionality. Here are simple rules to define a function in Python:\n",
        "\n",
        "*   Functions blocks begin <code>def</code> followed by the function <code>name</code> and parentheses <code>()</code>.\n",
        "*   There are input parameters or arguments that should be placed within these parentheses.\n",
        "*   You can also define parameters inside these parentheses.\n",
        "*   There is a body within every function that starts with a colon (<code>:</code>) and is indented.\n",
        "*   You can also place documentation before the body.\n",
        "*   The statement <code>return</code> exits a function, optionally passing back a value.\n",
        "\n",
        "An example of a function that adds on to the parameter <code>a</code> prints and returns the output as <code>b</code>:\n"
      ]
    },
    {
      "cell_type": "code",
      "execution_count": null,
      "metadata": {
        "jupyter": {
          "outputs_hidden": true
        },
        "id": "5zXFwru_QgFg"
      },
      "outputs": [],
      "source": [
        "# First function example: Add 1 to a and store as b\n",
        "\n",
        "def add(a):\n",
        "    \"\"\"\n",
        "    add 1 to a\n",
        "    \"\"\"\n",
        "    b = a + 1\n",
        "    print(a, \"if you add one\", b)\n",
        "    return(b)"
      ]
    },
    {
      "cell_type": "markdown",
      "metadata": {
        "id": "jKZ2IkI8QgFk"
      },
      "source": [
        "The figure below illustrates the terminology:\n"
      ]
    },
    {
      "cell_type": "markdown",
      "metadata": {
        "id": "mcKwMl6JQgFl"
      },
      "source": [
        "<img src=\"https://cf-courses-data.s3.us.cloud-object-storage.appdomain.cloud/IBMDeveloperSkillsNetwork-PY0101EN-SkillsNetwork/labs/Module%203/images/FuncsDefinition.png\" width=\"500\" /> \n"
      ]
    },
    {
      "cell_type": "markdown",
      "metadata": {
        "id": "8J0MblEVQgFl"
      },
      "source": [
        "We can obtain help about a function :\n"
      ]
    },
    {
      "cell_type": "code",
      "execution_count": null,
      "metadata": {
        "colab": {
          "base_uri": "https://localhost:8080/"
        },
        "id": "ZaoKTgnUQgFm",
        "outputId": "126840cf-a541-4daa-c5a7-ed1de9ac5658"
      },
      "outputs": [
        {
          "output_type": "stream",
          "name": "stdout",
          "text": [
            "Help on function add in module __main__:\n",
            "\n",
            "add(a)\n",
            "    add 1 to a\n",
            "\n"
          ]
        }
      ],
      "source": [
        "# Get a help on add function\n",
        "\n",
        "help(add)"
      ]
    },
    {
      "cell_type": "markdown",
      "metadata": {
        "id": "PcP35D_WQgFn"
      },
      "source": [
        "We can call the function:\n"
      ]
    },
    {
      "cell_type": "code",
      "execution_count": null,
      "metadata": {
        "colab": {
          "base_uri": "https://localhost:8080/"
        },
        "id": "YKg-f-XsQgFo",
        "outputId": "0bf46dcc-a287-4ad2-cf40-e3838ced7411"
      },
      "outputs": [
        {
          "output_type": "stream",
          "name": "stdout",
          "text": [
            "1 if you add one 2\n"
          ]
        },
        {
          "output_type": "execute_result",
          "data": {
            "text/plain": [
              "2"
            ]
          },
          "metadata": {},
          "execution_count": 9
        }
      ],
      "source": [
        "# Call the function add()\n",
        "\n",
        "add(1)"
      ]
    },
    {
      "cell_type": "markdown",
      "metadata": {
        "id": "dMIRM7BeQgFo"
      },
      "source": [
        "If we call the function with a new input we get a new result:\n"
      ]
    },
    {
      "cell_type": "code",
      "execution_count": null,
      "metadata": {
        "colab": {
          "base_uri": "https://localhost:8080/"
        },
        "id": "zag6uAzOQgFo",
        "outputId": "affe7a78-bf5f-41be-9d88-e86aac1e9674"
      },
      "outputs": [
        {
          "output_type": "stream",
          "name": "stdout",
          "text": [
            "2 if you add one 3\n"
          ]
        },
        {
          "output_type": "execute_result",
          "data": {
            "text/plain": [
              "3"
            ]
          },
          "metadata": {},
          "execution_count": 8
        }
      ],
      "source": [
        "# Call the function add()\n",
        "\n",
        "add(2)"
      ]
    },
    {
      "cell_type": "markdown",
      "metadata": {
        "id": "AS6EzpMcQgFp"
      },
      "source": [
        "We can create different functions. For example, we can create a function that multiplies two numbers. The numbers will be represented by the variables <code>a</code> and <code>b</code>:\n"
      ]
    },
    {
      "cell_type": "code",
      "execution_count": null,
      "metadata": {
        "colab": {
          "base_uri": "https://localhost:8080/"
        },
        "id": "CnyxTsTjQgFp",
        "outputId": "96052f4b-52c9-48e6-8c58-c0b1f208c201"
      },
      "outputs": [
        {
          "output_type": "stream",
          "name": "stdout",
          "text": [
            "24\n"
          ]
        }
      ],
      "source": [
        "# Define a function for multiple two numbers\n",
        "\n",
        "def Mult(a, b):\n",
        "    c = a * b\n",
        "    return(c)\n",
        "    print('This is not printed')\n",
        "    \n",
        "result = Mult(12,2)\n",
        "print(result)"
      ]
    },
    {
      "cell_type": "markdown",
      "metadata": {
        "id": "ruSaOGavQgFq"
      },
      "source": [
        "The same function can be used for different data types. For example, we can multiply two integers:\n"
      ]
    },
    {
      "cell_type": "code",
      "execution_count": null,
      "metadata": {
        "colab": {
          "base_uri": "https://localhost:8080/"
        },
        "id": "DOpGmwMPQgFq",
        "outputId": "50757ecc-b3d0-49fb-e8d1-c84def9e559e"
      },
      "outputs": [
        {
          "output_type": "execute_result",
          "data": {
            "text/plain": [
              "6"
            ]
          },
          "metadata": {},
          "execution_count": 11
        }
      ],
      "source": [
        "# Use mult() multiply two integers\n",
        "\n",
        "Mult(2, 3)"
      ]
    },
    {
      "cell_type": "markdown",
      "metadata": {
        "id": "u8AwnZP3QgFq"
      },
      "source": [
        "Note how the function terminates at the <code> return </code> statement, while passing back a value. This value can be further assigned to a different variable as desired.\n",
        "\n",
        "<hr>\n",
        "The same function can be used for different data types. For example, we can multiply two integers:\n"
      ]
    },
    {
      "cell_type": "markdown",
      "metadata": {
        "id": "-MrgfTBDQgFr"
      },
      "source": [
        "Two Floats:\n"
      ]
    },
    {
      "cell_type": "code",
      "execution_count": null,
      "metadata": {
        "colab": {
          "base_uri": "https://localhost:8080/"
        },
        "id": "sNAjJNsuQgFr",
        "outputId": "e25a18b7-b7e6-4027-ab29-074ce8f178b1"
      },
      "outputs": [
        {
          "output_type": "execute_result",
          "data": {
            "text/plain": [
              "31.400000000000002"
            ]
          },
          "metadata": {},
          "execution_count": 13
        }
      ],
      "source": [
        "# Use mult() multiply two floats\n",
        "\n",
        "Mult(10.0, 3.14)"
      ]
    },
    {
      "cell_type": "markdown",
      "metadata": {
        "id": "fZuOvxpRQgFs"
      },
      "source": [
        "We can even replicate a string by multiplying with an integer:\n"
      ]
    },
    {
      "cell_type": "code",
      "execution_count": null,
      "metadata": {
        "colab": {
          "base_uri": "https://localhost:8080/",
          "height": 36
        },
        "id": "OXo2cBHLQgFs",
        "outputId": "9d3bd646-aa0e-4c6f-b77c-0daf14d8922c"
      },
      "outputs": [
        {
          "output_type": "execute_result",
          "data": {
            "text/plain": [
              "'Michael Jackson Michael Jackson '"
            ],
            "application/vnd.google.colaboratory.intrinsic+json": {
              "type": "string"
            }
          },
          "metadata": {},
          "execution_count": 14
        }
      ],
      "source": [
        "# Use mult() multiply two different type values together\n",
        "\n",
        "Mult(2, \"Michael Jackson \")"
      ]
    },
    {
      "cell_type": "markdown",
      "metadata": {
        "id": "EFppUjkJQgFs"
      },
      "source": [
        "<h3 id=\"var\">Variables</h3>\n"
      ]
    },
    {
      "cell_type": "markdown",
      "metadata": {
        "id": "gHLDxLRJQgFs"
      },
      "source": [
        "The input to a function is called a formal parameter.\n",
        "\n",
        "A variable that is declared inside a function is called a  local variable. The parameter only exists within the function (i.e. the point where the function starts and stops).\n",
        "\n",
        "A variable that is declared outside a function definition is a global variable, and its value is accessible and modifiable throughout the program. We will discuss more about global variables at the end of the lab.\n"
      ]
    },
    {
      "cell_type": "code",
      "execution_count": null,
      "metadata": {
        "id": "4w-9VYGQQgFt"
      },
      "outputs": [],
      "source": [
        "# Function Definition\n",
        "\n",
        "def square(a):\n",
        "    \n",
        "    # Local variable b\n",
        "    b = 1\n",
        "    c = a * a + b\n",
        "    print(a, \"if you square + 1\", c) \n",
        "    return(c)"
      ]
    },
    {
      "cell_type": "markdown",
      "metadata": {
        "id": "-OBSgIr-QgFt"
      },
      "source": [
        "The labels are displayed in the figure:\n"
      ]
    },
    {
      "cell_type": "markdown",
      "metadata": {
        "id": "RFw0XKr4QgFu"
      },
      "source": [
        "<img src=\"https://cf-courses-data.s3.us.cloud-object-storage.appdomain.cloud/IBMDeveloperSkillsNetwork-PY0101EN-SkillsNetwork/labs/Module%203/images/FuncsVar.png\" width=\"500\" />\n"
      ]
    },
    {
      "cell_type": "markdown",
      "metadata": {
        "id": "uavNiiqbQgFu"
      },
      "source": [
        "We can call the function  with an input of <b>3</b>:\n"
      ]
    },
    {
      "cell_type": "code",
      "execution_count": null,
      "metadata": {
        "colab": {
          "base_uri": "https://localhost:8080/"
        },
        "id": "hKcwGbAfQgFu",
        "outputId": "6f5aa8c8-79a0-4662-98fa-b959587bd9e3"
      },
      "outputs": [
        {
          "output_type": "stream",
          "name": "stdout",
          "text": [
            "3 if you square + 1 10\n"
          ]
        },
        {
          "output_type": "execute_result",
          "data": {
            "text/plain": [
              "10"
            ]
          },
          "metadata": {},
          "execution_count": 16
        }
      ],
      "source": [
        "# Initializes Global variable  \n",
        "\n",
        "x = 3\n",
        "# Makes function call and return function a y\n",
        "y = square(x)\n",
        "y"
      ]
    },
    {
      "cell_type": "markdown",
      "metadata": {
        "id": "0sJLQEj8QgFv"
      },
      "source": [
        "We can call the function  with an input of <b>2</b> in a different manner:\n"
      ]
    },
    {
      "cell_type": "code",
      "execution_count": null,
      "metadata": {
        "colab": {
          "base_uri": "https://localhost:8080/"
        },
        "id": "GHsaiwSOQgFv",
        "outputId": "7b976f14-cf0e-4d9b-81a5-cb1785e28619"
      },
      "outputs": [
        {
          "output_type": "stream",
          "name": "stdout",
          "text": [
            "2 if you square + 1 5\n"
          ]
        },
        {
          "output_type": "execute_result",
          "data": {
            "text/plain": [
              "5"
            ]
          },
          "metadata": {},
          "execution_count": 17
        }
      ],
      "source": [
        "# Directly enter a number as parameter\n",
        "\n",
        "square(2)"
      ]
    },
    {
      "cell_type": "markdown",
      "metadata": {
        "id": "rouuhay1QgFw"
      },
      "source": [
        "If there is no <code>return</code> statement, the function returns <code>None</code>. The following two functions are equivalent:\n"
      ]
    },
    {
      "cell_type": "code",
      "execution_count": null,
      "metadata": {
        "id": "sXdL4OR_QgFw"
      },
      "outputs": [],
      "source": [
        "# Define functions, one with return value None and other without return value\n",
        "\n",
        "def MJ():\n",
        "    print('Michael Jackson')\n",
        "    \n",
        "def MJ1():\n",
        "    print('Michael Jackson')\n",
        "    return(None)"
      ]
    },
    {
      "cell_type": "code",
      "execution_count": null,
      "metadata": {
        "colab": {
          "base_uri": "https://localhost:8080/"
        },
        "id": "fqlHVcOgQgFw",
        "outputId": "aca6985f-7472-4f57-dd3b-9893533eede6"
      },
      "outputs": [
        {
          "output_type": "stream",
          "name": "stdout",
          "text": [
            "Michael Jackson\n"
          ]
        }
      ],
      "source": [
        "# See the output\n",
        "\n",
        "MJ()"
      ]
    },
    {
      "cell_type": "code",
      "execution_count": null,
      "metadata": {
        "colab": {
          "base_uri": "https://localhost:8080/"
        },
        "id": "kpkoldPAQgFx",
        "outputId": "2ef1d618-8d20-436a-bc72-d5ad4ef0839f"
      },
      "outputs": [
        {
          "output_type": "stream",
          "name": "stdout",
          "text": [
            "Michael Jackson\n"
          ]
        }
      ],
      "source": [
        "# See the output\n",
        "\n",
        "MJ1()"
      ]
    },
    {
      "cell_type": "markdown",
      "metadata": {
        "id": "3GgcZ1a2QgFx"
      },
      "source": [
        "Printing the function after a call reveals a **None** is the default return statement:\n"
      ]
    },
    {
      "cell_type": "code",
      "execution_count": null,
      "metadata": {
        "colab": {
          "base_uri": "https://localhost:8080/"
        },
        "id": "mT40bI0OQgFx",
        "outputId": "c6c77a22-8d3d-4da5-fb41-674e42b030ae"
      },
      "outputs": [
        {
          "output_type": "stream",
          "name": "stdout",
          "text": [
            "Michael Jackson\n",
            "None\n",
            "Michael Jackson\n",
            "None\n"
          ]
        }
      ],
      "source": [
        "# See what functions returns are\n",
        "\n",
        "print(MJ())\n",
        "print(MJ1())"
      ]
    },
    {
      "cell_type": "markdown",
      "metadata": {
        "id": "SmcQ2aCwQgFx"
      },
      "source": [
        "Create a function <code>con</code> that  concatenates two strings using the addition operation:\n"
      ]
    },
    {
      "cell_type": "code",
      "execution_count": null,
      "metadata": {
        "jupyter": {
          "outputs_hidden": true
        },
        "id": "xslKrmqFQgFy"
      },
      "outputs": [],
      "source": [
        "# Define the function for combining strings\n",
        "\n",
        "def con(a, b):\n",
        "    return(a + b)"
      ]
    },
    {
      "cell_type": "code",
      "execution_count": null,
      "metadata": {
        "colab": {
          "base_uri": "https://localhost:8080/",
          "height": 36
        },
        "id": "DpNkQ2qYQgFy",
        "outputId": "e435961b-e3b7-46d7-e487-9eabc16cb0f7"
      },
      "outputs": [
        {
          "output_type": "execute_result",
          "data": {
            "text/plain": [
              "'This is'"
            ],
            "application/vnd.google.colaboratory.intrinsic+json": {
              "type": "string"
            }
          },
          "metadata": {},
          "execution_count": 23
        }
      ],
      "source": [
        "# Test on the con() function\n",
        "\n",
        "con(\"This \", \"is\")"
      ]
    },
    {
      "cell_type": "markdown",
      "metadata": {
        "id": "TZMBrbN1QgFz"
      },
      "source": [
        "<hr/>\n",
        "    <div class=\"alert alert-success alertsuccess\" style=\"margin-top: 20px\">\n",
        "        <h4> [Tip] How do I learn more about the pre-defined functions in Python? </h4>\n",
        "        <p>We will be introducing a variety of pre-defined functions to you as you learn more about Python. There are just too many functions, so there's no way we can teach them all in one sitting. But if you'd like to take a quick peek, here's a short reference card for some of the commonly-used pre-defined functions: <a href=\"https://cf-courses-data.s3.us.cloud-object-storage.appdomain.cloud/IBMDeveloperSkillsNetwork-PY0101EN-SkillsNetwork/labs/Module%203/Python_reference_sheet.pdf?utm_medium=Exinfluencer&utm_source=Exinfluencer&utm_content=000026UJ&utm_term=10006555&utm_id=NA-SkillsNetwork-Channel-SkillsNetworkCoursesIBMDeveloperSkillsNetworkPY0101ENSkillsNetwork19487395-2022-01-01\">Reference</a></p>\n",
        "    </div>\n",
        "<hr/>\n"
      ]
    },
    {
      "cell_type": "markdown",
      "metadata": {
        "id": "_HWKyRQHQgFz"
      },
      "source": [
        "<h3 id=\"simple\">Functions Make Things Simple</h3>\n"
      ]
    },
    {
      "cell_type": "markdown",
      "metadata": {
        "id": "lZFxD7TYQgF0"
      },
      "source": [
        "Consider the two lines of code in <b>Block 1</b> and <b>Block 2</b>: the procedure for each block is identical. The only thing that is different is the variable names and values.\n"
      ]
    },
    {
      "cell_type": "markdown",
      "metadata": {
        "id": "uBQe3PEkQgF0"
      },
      "source": [
        "<h4>Block 1:</h4>\n"
      ]
    },
    {
      "cell_type": "code",
      "execution_count": null,
      "metadata": {
        "colab": {
          "base_uri": "https://localhost:8080/"
        },
        "id": "5jjNQokoQgF0",
        "outputId": "ea629fe4-b8cf-48cf-f437-e213ea1dbdd0"
      },
      "outputs": [
        {
          "output_type": "execute_result",
          "data": {
            "text/plain": [
              "5"
            ]
          },
          "metadata": {},
          "execution_count": 24
        }
      ],
      "source": [
        "# a and b calculation block1\n",
        "\n",
        "a1 = 4\n",
        "b1 = 5\n",
        "c1 = a1 + b1 + 2 * a1 * b1 - 1\n",
        "if(c1 < 0):\n",
        "    c1 = 0 \n",
        "else:\n",
        "    c1 = 5\n",
        "c1   "
      ]
    },
    {
      "cell_type": "markdown",
      "metadata": {
        "id": "cS9rs8WVQgF1"
      },
      "source": [
        "<h4>Block 2:</h4>\n"
      ]
    },
    {
      "cell_type": "code",
      "execution_count": null,
      "metadata": {
        "colab": {
          "base_uri": "https://localhost:8080/"
        },
        "id": "cM4BxsQWQgF1",
        "outputId": "3ddc3901-69b1-4aa3-a29d-d5a242efc94d"
      },
      "outputs": [
        {
          "output_type": "execute_result",
          "data": {
            "text/plain": [
              "0"
            ]
          },
          "metadata": {},
          "execution_count": 25
        }
      ],
      "source": [
        "# a and b calculation block2\n",
        "\n",
        "a2 = 0\n",
        "b2 = 0\n",
        "c2 = a2 + b2 + 2 * a2 * b2 - 1\n",
        "if(c2 < 0):\n",
        "    c2 = 0 \n",
        "else:\n",
        "    c2 = 5\n",
        "c2   "
      ]
    },
    {
      "cell_type": "markdown",
      "metadata": {
        "id": "wQkTNuYcQgF1"
      },
      "source": [
        "We can replace the lines of code with a function. A function combines many instructions into a single line of code. Once a function is defined, it can be used repeatedly. You can invoke the same function many times in your program. You can save your function and use it in another program or use someone else’s function. The lines of code in code <b>Block 1</b> and code <b>Block 2</b> can be replaced by the following function:\n"
      ]
    },
    {
      "cell_type": "code",
      "execution_count": null,
      "metadata": {
        "id": "SM-x28IaQgF2"
      },
      "outputs": [],
      "source": [
        "# Make a Function for the calculation above\n",
        "\n",
        "def Equation(a,b):\n",
        "    c = a + b + 2 * a * b - 1\n",
        "    if(c < 0):\n",
        "        c = 0 \n",
        "    else:\n",
        "        c = 5\n",
        "    return(c) "
      ]
    },
    {
      "cell_type": "markdown",
      "metadata": {
        "id": "qUwFTOVhQgF2"
      },
      "source": [
        "This function takes two inputs, a and b, then applies several operations to return c.\n",
        "We simply define the function, replace the instructions with the function, and input the new values of <code>a1</code>, <code>b1</code> and <code>a2</code>, <code>b2</code> as inputs. The entire process is demonstrated in the figure:\n"
      ]
    },
    {
      "cell_type": "markdown",
      "metadata": {
        "id": "4Flc3f5EQgF3"
      },
      "source": [
        "<img src=\"https://cf-courses-data.s3.us.cloud-object-storage.appdomain.cloud/IBMDeveloperSkillsNetwork-PY0101EN-SkillsNetwork/labs/Module%203/images/FuncsPros.gif\" width=\"850\" />\n"
      ]
    },
    {
      "cell_type": "markdown",
      "metadata": {
        "id": "VRj14WaBQgF3"
      },
      "source": [
        "Code **Blocks 1** and **Block 2** can now be replaced with code **Block 3** and code **Block 4**.\n"
      ]
    },
    {
      "cell_type": "markdown",
      "metadata": {
        "id": "m5ezzPQdQgF3"
      },
      "source": [
        "<h4>Block 3:</h4>\n"
      ]
    },
    {
      "cell_type": "code",
      "execution_count": null,
      "metadata": {
        "colab": {
          "base_uri": "https://localhost:8080/"
        },
        "id": "2eAMVnohQgF3",
        "outputId": "0af141b4-3e65-4ec6-f416-c93bb96ff5b4"
      },
      "outputs": [
        {
          "output_type": "execute_result",
          "data": {
            "text/plain": [
              "5"
            ]
          },
          "metadata": {},
          "execution_count": 27
        }
      ],
      "source": [
        "a1 = 4\n",
        "b1 = 5\n",
        "c1 = Equation(a1, b1)\n",
        "c1"
      ]
    },
    {
      "cell_type": "markdown",
      "metadata": {
        "id": "GBi8BneGQgF4"
      },
      "source": [
        "<h4>Block 4:</h4>\n"
      ]
    },
    {
      "cell_type": "code",
      "execution_count": null,
      "metadata": {
        "colab": {
          "base_uri": "https://localhost:8080/"
        },
        "id": "Uv251U6uQgF4",
        "outputId": "1b2a9f68-4d53-482c-a071-cc4ec4a4949f"
      },
      "outputs": [
        {
          "output_type": "execute_result",
          "data": {
            "text/plain": [
              "0"
            ]
          },
          "metadata": {},
          "execution_count": 28
        }
      ],
      "source": [
        "a2 = 0\n",
        "b2 = 0\n",
        "c2 = Equation(a2, b2)\n",
        "c2"
      ]
    },
    {
      "cell_type": "markdown",
      "metadata": {
        "id": "hLo5Ln08QgF5"
      },
      "source": [
        "<hr>\n"
      ]
    },
    {
      "cell_type": "markdown",
      "metadata": {
        "id": "rTwAe13HQgF5"
      },
      "source": [
        "<h2 id=\"pre\">Pre-defined functions</h2>\n"
      ]
    },
    {
      "cell_type": "markdown",
      "metadata": {
        "id": "0I0Z8v7eQgF5"
      },
      "source": [
        "There are many pre-defined functions in Python, so let's start with the simple ones.\n"
      ]
    },
    {
      "cell_type": "markdown",
      "metadata": {
        "id": "IQo-8tm_QgF5"
      },
      "source": [
        "The <code>print()</code> function:\n"
      ]
    },
    {
      "cell_type": "code",
      "execution_count": null,
      "metadata": {
        "colab": {
          "base_uri": "https://localhost:8080/"
        },
        "id": "5dp9EKxdQgF6",
        "outputId": "57cb0d6a-7bf0-4dcf-8905-30d8bab8e156"
      },
      "outputs": [
        {
          "output_type": "stream",
          "name": "stdout",
          "text": [
            "[10.0, 8.5, 9.5, 7.0, 7.0, 9.5, 9.0, 9.5]\n"
          ]
        }
      ],
      "source": [
        "# Build-in function print()\n",
        "\n",
        "album_ratings = [10.0, 8.5, 9.5, 7.0, 7.0, 9.5, 9.0, 9.5] \n",
        "print(album_ratings)"
      ]
    },
    {
      "cell_type": "markdown",
      "metadata": {
        "id": "BOv7CGlXQgF6"
      },
      "source": [
        "The <code>sum()</code> function adds all the  elements in a list or tuple:\n"
      ]
    },
    {
      "cell_type": "code",
      "execution_count": null,
      "metadata": {
        "colab": {
          "base_uri": "https://localhost:8080/"
        },
        "id": "esO_X78OQgF6",
        "outputId": "ce738d67-3411-4062-c5f3-2401782a9027"
      },
      "outputs": [
        {
          "output_type": "execute_result",
          "data": {
            "text/plain": [
              "70.0"
            ]
          },
          "metadata": {},
          "execution_count": 30
        }
      ],
      "source": [
        "# Use sum() to add every element in a list or tuple together\n",
        "\n",
        "sum(album_ratings)"
      ]
    },
    {
      "cell_type": "markdown",
      "metadata": {
        "id": "2Jn3eXRTQgF7"
      },
      "source": [
        "The <code>len()</code> function returns the length of a list or tuple:\n"
      ]
    },
    {
      "cell_type": "code",
      "execution_count": null,
      "metadata": {
        "colab": {
          "base_uri": "https://localhost:8080/"
        },
        "id": "ac9Km7P_QgF7",
        "outputId": "d73284dd-2e71-44b4-ec7d-3e298778b825"
      },
      "outputs": [
        {
          "output_type": "execute_result",
          "data": {
            "text/plain": [
              "8"
            ]
          },
          "metadata": {},
          "execution_count": 31
        }
      ],
      "source": [
        "# Show the length of the list or tuple\n",
        "\n",
        "len(album_ratings)"
      ]
    },
    {
      "cell_type": "markdown",
      "metadata": {
        "id": "ad9TgWPqQgF8"
      },
      "source": [
        "<h2 id=\"if\">Using <code>if</code>/<code>else</code> Statements and Loops in Functions</h2>\n"
      ]
    },
    {
      "cell_type": "markdown",
      "metadata": {
        "id": "IymZlJuhQgF8"
      },
      "source": [
        "The <code>return()</code> function is particularly useful if you have any IF statements in the function, when you want your output to be dependent on some condition:\n"
      ]
    },
    {
      "cell_type": "code",
      "execution_count": null,
      "metadata": {
        "colab": {
          "base_uri": "https://localhost:8080/"
        },
        "id": "MKKsBG_PQgF9",
        "outputId": "e083ab27-5382-43af-ab59-95cbbcc573f2"
      },
      "outputs": [
        {
          "output_type": "stream",
          "name": "stdout",
          "text": [
            "Michael Jackson Thriller 1980\n",
            "Oldie\n"
          ]
        }
      ],
      "source": [
        "# Function example\n",
        "\n",
        "def type_of_album(artist, album, year_released):\n",
        "    \n",
        "    print(artist, album, year_released)\n",
        "    if year_released > 1980:\n",
        "        return \"Modern\"\n",
        "    else:\n",
        "        return \"Oldie\"\n",
        "    \n",
        "x = type_of_album(\"Michael Jackson\", \"Thriller\", 1980)\n",
        "print(x)"
      ]
    },
    {
      "cell_type": "markdown",
      "metadata": {
        "id": "Ha9PR-9nQgF9"
      },
      "source": [
        "We can use a loop in a function. For example, we can <code>print</code> out each element in a list:\n"
      ]
    },
    {
      "cell_type": "code",
      "execution_count": null,
      "metadata": {
        "id": "ff3VGp-LQgF_"
      },
      "outputs": [],
      "source": [
        "# Print the list using for loop\n",
        "\n",
        "def PrintList(the_list):\n",
        "    for element in the_list:\n",
        "        print(element)"
      ]
    },
    {
      "cell_type": "code",
      "execution_count": null,
      "metadata": {
        "colab": {
          "base_uri": "https://localhost:8080/"
        },
        "id": "aQiZgvclQgGA",
        "outputId": "330652e7-51a6-4929-f84a-cb3ab1a22f14"
      },
      "outputs": [
        {
          "output_type": "stream",
          "name": "stdout",
          "text": [
            "1\n",
            "1\n",
            "the man\n",
            "abc\n"
          ]
        }
      ],
      "source": [
        "# Implement the printlist function\n",
        "\n",
        "PrintList(['1', 1, 'the man', \"abc\"])"
      ]
    },
    {
      "cell_type": "markdown",
      "metadata": {
        "id": "d5nG_EHDQgGA"
      },
      "source": [
        "<hr>\n"
      ]
    },
    {
      "cell_type": "markdown",
      "metadata": {
        "id": "xSxVqseKQgGA"
      },
      "source": [
        "<h2 id=\"default\">Setting default argument values in your custom functions</h2>\n"
      ]
    },
    {
      "cell_type": "markdown",
      "metadata": {
        "id": "AYOBgVvEQgGB"
      },
      "source": [
        "You can set a default value for arguments in your function. For example, in the <code>isGoodRating()</code> function, what if we wanted to create a threshold for what we consider to be a good rating? Perhaps by default, we should have a default rating of 4:\n"
      ]
    },
    {
      "cell_type": "code",
      "execution_count": null,
      "metadata": {
        "id": "VMfrBxHKQgGB"
      },
      "outputs": [],
      "source": [
        "# Example for setting param with default value\n",
        "\n",
        "def isGoodRating(rating=4): \n",
        "    if(rating < 7):\n",
        "        print(\"this album sucks it's rating is\",rating)\n",
        "        \n",
        "    else:\n",
        "        print(\"this album is good its rating is\",rating)\n"
      ]
    },
    {
      "cell_type": "code",
      "execution_count": null,
      "metadata": {
        "colab": {
          "base_uri": "https://localhost:8080/"
        },
        "id": "3TwclvPAQgGB",
        "outputId": "8c5acd62-68ea-4921-a218-8a15fabf9cfa"
      },
      "outputs": [
        {
          "output_type": "stream",
          "name": "stdout",
          "text": [
            "this album sucks it's rating is 4\n",
            "this album is good its rating is 10\n"
          ]
        }
      ],
      "source": [
        "# Test the value with default value and with input\n",
        "\n",
        "isGoodRating()\n",
        "isGoodRating(10)"
      ]
    },
    {
      "cell_type": "markdown",
      "metadata": {
        "id": "A-50It_SQgGC"
      },
      "source": [
        "<hr>\n"
      ]
    },
    {
      "cell_type": "markdown",
      "metadata": {
        "id": "51Akl9eOQgGC"
      },
      "source": [
        "<h2 id=\"global\">Global variables</h2>\n"
      ]
    },
    {
      "cell_type": "markdown",
      "metadata": {
        "id": "eQWnzW4-QgGC"
      },
      "source": [
        "So far, we've been creating variables within functions, but we have not discussed variables outside the function. These are called global variables. <br>\n",
        "Let's try to see what <code>printer1</code> returns:\n"
      ]
    },
    {
      "cell_type": "code",
      "execution_count": null,
      "metadata": {
        "colab": {
          "base_uri": "https://localhost:8080/"
        },
        "id": "YcvZPiisQgGD",
        "outputId": "e019c457-c9f6-4fd6-bd94-5502684a269a"
      },
      "outputs": [
        {
          "output_type": "stream",
          "name": "stdout",
          "text": [
            "Michael Jackson is an artist\n"
          ]
        }
      ],
      "source": [
        "# Example of global variable\n",
        "\n",
        "artist = \"Michael Jackson\"\n",
        "def printer1(artist):\n",
        "    internal_var1 = artist\n",
        "    print(artist, \"is an artist\")\n",
        "    \n",
        "printer1(artist)\n",
        "# try runningthe following code\n",
        "#printer1(internal_var1) "
      ]
    },
    {
      "cell_type": "markdown",
      "metadata": {
        "id": "OjZ869NbQgGD"
      },
      "source": [
        "<b>We got a Name Error:  <code>name 'internal_var' is not defined</code>. Why?</b>\n",
        "\n",
        "It's because all the variables we create in the function is a <b>local variable</b>, meaning that the variable assignment does not persist outside the function.\n",
        "\n",
        "But there is a way to create <b>global variables</b> from within a function as follows:\n"
      ]
    },
    {
      "cell_type": "code",
      "execution_count": null,
      "metadata": {
        "colab": {
          "base_uri": "https://localhost:8080/"
        },
        "id": "IFm8OgltQgGE",
        "outputId": "2f74856b-24b0-4c14-f75a-6b33b1894167"
      },
      "outputs": [
        {
          "output_type": "stream",
          "name": "stdout",
          "text": [
            "Michael Jackson is an artist\n",
            "Whitney Houston is an artist\n"
          ]
        }
      ],
      "source": [
        "artist = \"Michael Jackson\"\n",
        "\n",
        "def printer(artist):\n",
        "    global internal_var \n",
        "    internal_var= \"Whitney Houston\"\n",
        "    print(artist,\"is an artist\")\n",
        "\n",
        "printer(artist) \n",
        "printer(internal_var)"
      ]
    },
    {
      "cell_type": "markdown",
      "metadata": {
        "id": "xxbKA4xeQgGE"
      },
      "source": [
        "<h2 id=\"scope\">Scope of a Variable</h2>\n"
      ]
    },
    {
      "cell_type": "markdown",
      "metadata": {
        "id": "y9Z3CUN_QgGE"
      },
      "source": [
        "The scope of a variable is the part of that program where that variable is accessible. Variables that are declared outside of all function definitions, such as the <code>myFavouriteBand</code> variable in the code shown here, are accessible from anywhere within the program. As a result, such variables are said to have global scope, and are known as global variables. <code>myFavouriteBand</code> is a global variable, so it is accessible from within the <code>getBandRating</code> function, and we can use it to determine a band's rating. We can also use it outside of the function, such as when we pass it to the print function to display it:\n"
      ]
    },
    {
      "cell_type": "code",
      "execution_count": null,
      "metadata": {
        "colab": {
          "base_uri": "https://localhost:8080/"
        },
        "id": "Sx3j1oRKQgGE",
        "outputId": "7b5dd6f5-1504-4ba9-f5aa-7fabc5c1bf17"
      },
      "outputs": [
        {
          "output_type": "stream",
          "name": "stdout",
          "text": [
            "AC/DC's rating is: 10.0\n",
            "Deep Purple's rating is: 0.0\n",
            "My favourite band is: AC/DC\n"
          ]
        }
      ],
      "source": [
        "# Example of global variable\n",
        "\n",
        "myFavouriteBand = \"AC/DC\"\n",
        "\n",
        "def getBandRating(bandname):\n",
        "    if bandname == myFavouriteBand:\n",
        "        return 10.0\n",
        "    else:\n",
        "        return 0.0\n",
        "\n",
        "print(\"AC/DC's rating is:\", getBandRating(\"AC/DC\"))\n",
        "print(\"Deep Purple's rating is:\",getBandRating(\"Deep Purple\"))\n",
        "print(\"My favourite band is:\", myFavouriteBand)"
      ]
    },
    {
      "cell_type": "markdown",
      "metadata": {
        "id": "RcGxixJyQgGF"
      },
      "source": [
        "Take a look at this modified version of our code. Now the <code>myFavouriteBand</code> variable is defined within the <code>getBandRating</code> function. A variable that is defined within a function is said to be a local variable of that function. That means that it is only accessible from within the function in which it is defined. Our <code>getBandRating</code> function will still work, because <code>myFavouriteBand</code> is still defined within the function. However, we can no longer print <code>myFavouriteBand</code> outside our function, because it is a local variable of our <code>getBandRating</code> function; it is only defined within the <code>getBandRating</code> function:\n"
      ]
    },
    {
      "cell_type": "code",
      "execution_count": null,
      "metadata": {
        "colab": {
          "base_uri": "https://localhost:8080/",
          "height": 235
        },
        "id": "hd6u1zLWQgGF",
        "outputId": "ce20cfa1-b5ef-4930-ac7c-b2395789bd99"
      },
      "outputs": [
        {
          "output_type": "error",
          "ename": "NameError",
          "evalue": "ignored",
          "traceback": [
            "\u001b[0;31m---------------------------------------------------------------------------\u001b[0m",
            "\u001b[0;31mNameError\u001b[0m                                 Traceback (most recent call last)",
            "\u001b[0;32m<ipython-input-42-263a05334c01>\u001b[0m in \u001b[0;36m<module>\u001b[0;34m\u001b[0m\n\u001b[1;32m      1\u001b[0m \u001b[0;31m# Deleting the variable \"myFavouriteBand\" from the previous example to demonstrate an example of a local variable\u001b[0m\u001b[0;34m\u001b[0m\u001b[0;34m\u001b[0m\u001b[0;34m\u001b[0m\u001b[0m\n\u001b[1;32m      2\u001b[0m \u001b[0;34m\u001b[0m\u001b[0m\n\u001b[0;32m----> 3\u001b[0;31m \u001b[0;32mdel\u001b[0m \u001b[0mmyFavouriteBand\u001b[0m\u001b[0;34m\u001b[0m\u001b[0;34m\u001b[0m\u001b[0m\n\u001b[0m\u001b[1;32m      4\u001b[0m \u001b[0;34m\u001b[0m\u001b[0m\n\u001b[1;32m      5\u001b[0m \u001b[0;31m# Example of local variable\u001b[0m\u001b[0;34m\u001b[0m\u001b[0;34m\u001b[0m\u001b[0;34m\u001b[0m\u001b[0m\n",
            "\u001b[0;31mNameError\u001b[0m: name 'myFavouriteBand' is not defined"
          ]
        }
      ],
      "source": [
        "# Deleting the variable \"myFavouriteBand\" from the previous example to demonstrate an example of a local variable \n",
        "\n",
        "del myFavouriteBand\n",
        "\n",
        "# Example of local variable\n",
        "\n",
        "def getBandRating(bandname):\n",
        "    myFavouriteBand = \"AC/DC\"\n",
        "    if bandname == myFavouriteBand:\n",
        "        return 10.0\n",
        "    else:\n",
        "        return 0.0\n",
        "\n",
        "print(\"AC/DC's rating is: \", getBandRating(\"AC/DC\"))\n",
        "print(\"Deep Purple's rating is: \", getBandRating(\"Deep Purple\"))\n",
        "print(\"My favourite band is\", myFavouriteBand)"
      ]
    },
    {
      "cell_type": "markdown",
      "metadata": {
        "id": "VuLhbceWQgGF"
      },
      "source": [
        "Finally, take a look at this example. We now have two <code>myFavouriteBand</code> variable definitions. The first one of these has a global scope, and the second of them is a local variable within the <code>getBandRating</code> function. Within the <code>getBandRating</code> function, the local variable takes precedence. **Deep Purple** will receive a rating of 10.0 when passed to the <code>getBandRating</code> function. However, outside of the <code>getBandRating</code> function, the <code>getBandRating</code> s local variable is not defined, so the <code>myFavouriteBand</code> variable we print is the global variable, which has a value of **AC/DC**:\n"
      ]
    },
    {
      "cell_type": "code",
      "execution_count": null,
      "metadata": {
        "colab": {
          "base_uri": "https://localhost:8080/"
        },
        "id": "i2uHNc-gQgGG",
        "outputId": "e30eddd8-680b-43e1-897c-88943fa929eb"
      },
      "outputs": [
        {
          "output_type": "stream",
          "name": "stdout",
          "text": [
            "AC/DC's rating is: 0.0\n",
            "Deep Purple's rating is:  10.0\n",
            "My favourite band is: AC/DC\n"
          ]
        }
      ],
      "source": [
        "# Example of global variable and local variable with the same name\n",
        "\n",
        "myFavouriteBand = \"AC/DC\"\n",
        "\n",
        "def getBandRating(bandname):\n",
        "    myFavouriteBand = \"Deep Purple\"\n",
        "    if bandname == myFavouriteBand:\n",
        "        return 10.0\n",
        "    else:\n",
        "        return 0.0\n",
        "\n",
        "print(\"AC/DC's rating is:\",getBandRating(\"AC/DC\"))\n",
        "print(\"Deep Purple's rating is: \",getBandRating(\"Deep Purple\"))\n",
        "print(\"My favourite band is:\",myFavouriteBand)"
      ]
    },
    {
      "cell_type": "markdown",
      "metadata": {
        "id": "QZYwIKJIQgGG"
      },
      "source": [
        "<hr>\n",
        "<h2 id =\"collec\"> Collections and Functions</h2>\n"
      ]
    },
    {
      "cell_type": "markdown",
      "metadata": {
        "id": "0WZs6f5JQgGG"
      },
      "source": [
        "When the number of arguments  are unknown for a function, They can all be packed into a tuple as shown:\n"
      ]
    },
    {
      "cell_type": "code",
      "execution_count": null,
      "metadata": {
        "id": "fJeFJVEQQgGH"
      },
      "outputs": [],
      "source": [
        "def printAll(*args): # All the arguments are 'packed' into args which can be treated like a tuple\n",
        "    print(\"No of arguments:\", len(args)) \n",
        "    for argument in args:\n",
        "        print(argument)\n",
        "#printAll with 3 arguments\n",
        "printAll('Horsefeather','Adonis','Bone')\n",
        "#printAll with 4 arguments\n",
        "printAll('Sidecar','Long Island','Mudslide','Carriage')"
      ]
    },
    {
      "cell_type": "markdown",
      "metadata": {
        "id": "OLpV6sqXQgGH"
      },
      "source": [
        "Similarly, The arguments can also be packed into a dictionary as shown:\n"
      ]
    },
    {
      "cell_type": "code",
      "execution_count": null,
      "metadata": {
        "id": "O56-gMe7QgGH"
      },
      "outputs": [],
      "source": [
        "def printDictionary(**args):\n",
        "    for key in args:\n",
        "        print(key + \" : \" + args[key])\n",
        "\n",
        "printDictionary(Country='Canada',Province='Ontario',City='Toronto')\n",
        "    "
      ]
    },
    {
      "cell_type": "markdown",
      "metadata": {
        "id": "ibCt0UkDQgGI"
      },
      "source": [
        "Functions can be incredibly powerful and versatile. They can accept (and return) data types, objects and even other functions as arguements. Consider the example below:\n"
      ]
    },
    {
      "cell_type": "code",
      "execution_count": 2,
      "metadata": {
        "id": "6EERjh1LQgGI",
        "colab": {
          "base_uri": "https://localhost:8080/"
        },
        "outputId": "ce5fc0ca-9a85-44b5-fdc6-520371701e9c"
      },
      "outputs": [
        {
          "output_type": "execute_result",
          "data": {
            "text/plain": [
              "['One', 'Two', 'Three', 'Four']"
            ]
          },
          "metadata": {},
          "execution_count": 2
        }
      ],
      "source": [
        "def addItems(list):\n",
        "    list.append(\"Three\")\n",
        "    list.append(\"Four\")\n",
        "\n",
        "myList = [\"One\",\"Two\"]\n",
        "\n",
        "addItems(myList)\n",
        "\n",
        "myList\n",
        "    "
      ]
    },
    {
      "cell_type": "markdown",
      "metadata": {
        "id": "Gm9Lc_s_QgGI"
      },
      "source": [
        "Note how the changes made to the list are not limited to the functions scope. This occurs as it is the lists **reference** that is passed to the function - Any changes made are on the orignal instance of the list. Therefore, one should be cautious when passing mutable objects into functions.\n",
        "\n",
        "<hr>\n"
      ]
    },
    {
      "cell_type": "markdown",
      "metadata": {
        "id": "20O2wZ4LQgGJ"
      },
      "source": [
        "<h2>Quiz on Functions</h2>\n"
      ]
    },
    {
      "cell_type": "markdown",
      "metadata": {
        "id": "9C4_MlAPQgGK"
      },
      "source": [
        "Come up with a function that divides the first input by the second input:\n"
      ]
    },
    {
      "cell_type": "code",
      "execution_count": 5,
      "metadata": {
        "id": "jFOZCYuEQgGL"
      },
      "outputs": [],
      "source": [
        "# Write your code below and press Shift+Enter to execute\n",
        "def div(a,b):\n",
        "  return(a/b)"
      ]
    },
    {
      "cell_type": "markdown",
      "metadata": {
        "id": "KvrG9yXUQgGL"
      },
      "source": [
        "<details><summary>Click here for the solution</summary>\n",
        "\n",
        "```python\n",
        "def div(a, b):\n",
        "    return(a/b)\n",
        "    \n",
        "```\n",
        "\n",
        "</details>\n"
      ]
    },
    {
      "cell_type": "markdown",
      "metadata": {
        "id": "d3rc1VndQgGM"
      },
      "source": [
        "<hr>\n"
      ]
    },
    {
      "cell_type": "markdown",
      "metadata": {
        "id": "qrf03ERqQgGM"
      },
      "source": [
        "Use the function <code>con</code> for the following question.\n"
      ]
    },
    {
      "cell_type": "code",
      "execution_count": 1,
      "metadata": {
        "id": "bk51Fn7CQgGM"
      },
      "outputs": [],
      "source": [
        "# Use the con function for the following question\n",
        "\n",
        "def con(a, b):\n",
        "    return(a + b)"
      ]
    },
    {
      "cell_type": "markdown",
      "metadata": {
        "id": "HCHd5czjQgGN"
      },
      "source": [
        "Can the <code>con</code> function we defined before be used to add two integers or strings?\n"
      ]
    },
    {
      "cell_type": "code",
      "execution_count": 7,
      "metadata": {
        "id": "4uh40hdCQgGN",
        "colab": {
          "base_uri": "https://localhost:8080/"
        },
        "outputId": "fbe99f1b-3822-4bb1-8281-6c22fe128d38"
      },
      "outputs": [
        {
          "output_type": "execute_result",
          "data": {
            "text/plain": [
              "6"
            ]
          },
          "metadata": {},
          "execution_count": 7
        }
      ],
      "source": [
        "# Write your code below and press Shift+Enter to execute\n",
        "con(1,5)\n"
      ]
    },
    {
      "cell_type": "markdown",
      "metadata": {
        "id": "8Dp61cQlQgGN"
      },
      "source": [
        "<details><summary>Click here for the solution</summary>\n",
        "\n",
        "```python\n",
        "Yes, for example: \n",
        "con(2, 2)\n",
        "    \n",
        "```\n",
        "\n",
        "</details>\n"
      ]
    },
    {
      "cell_type": "markdown",
      "metadata": {
        "id": "JWAjNn5MQgGO"
      },
      "source": [
        "<hr>\n"
      ]
    },
    {
      "cell_type": "markdown",
      "metadata": {
        "id": "UHnv9xFDQgGO"
      },
      "source": [
        "Can the <code>con</code> function we defined before be used to concatenate lists or tuples?\n"
      ]
    },
    {
      "cell_type": "code",
      "execution_count": 9,
      "metadata": {
        "id": "Ox0NzwT9QgGO",
        "colab": {
          "base_uri": "https://localhost:8080/",
          "height": 36
        },
        "outputId": "7bb1753d-2c04-49a4-8a95-a95ff894479c"
      },
      "outputs": [
        {
          "output_type": "execute_result",
          "data": {
            "text/plain": [
              "'ab'"
            ],
            "application/vnd.google.colaboratory.intrinsic+json": {
              "type": "string"
            }
          },
          "metadata": {},
          "execution_count": 9
        }
      ],
      "source": [
        "# Write your code below and press Shift+Enter to execute\n",
        "con('a','b')\n",
        "\n"
      ]
    },
    {
      "cell_type": "markdown",
      "metadata": {
        "id": "iOyzY9MXQgGP"
      },
      "source": [
        "<details><summary>Click here for the solution</summary>\n",
        "\n",
        "```python\n",
        "Yes, for example: \n",
        "con(['a', 1], ['b', 1])\n",
        "    \n",
        "```\n",
        "\n",
        "</details>\n"
      ]
    },
    {
      "cell_type": "markdown",
      "metadata": {
        "id": "vs3pMlV6QgGQ"
      },
      "source": [
        "<hr>\n",
        "<h2>The last exercise!</h2>\n",
        "<p>Congratulations, you have completed your first lesson and hands-on lab in Python. \n",
        "<hr>\n"
      ]
    },
    {
      "cell_type": "markdown",
      "metadata": {
        "id": "ZuHRC6e-QgGQ"
      },
      "source": [
        "## Author\n",
        "\n",
        "<a href=\"https://www.linkedin.com/in/joseph-s-50398b136/?utm_medium=Exinfluencer&utm_source=Exinfluencer&utm_content=000026UJ&utm_term=10006555&utm_id=NA-SkillsNetwork-Channel-SkillsNetworkCoursesIBMDeveloperSkillsNetworkPY0101ENSkillsNetwork19487395-2022-01-01\" target=\"_blank\">Joseph Santarcangelo</a>\n",
        "\n",
        "## Other contributors\n",
        "\n",
        "<a href=\"https://www.linkedin.com/in/jiahui-mavis-zhou-a4537814a?utm_medium=Exinfluencer&utm_source=Exinfluencer&utm_content=000026UJ&utm_term=10006555&utm_id=NA-SkillsNetwork-Channel-SkillsNetworkCoursesIBMDeveloperSkillsNetworkPY0101ENSkillsNetwork19487395-2022-01-01\">Mavis Zhou</a>\n",
        "\n",
        "## Change Log\n",
        "\n",
        "| Date (YYYY-MM-DD) | Version | Changed By | Change Description                                                                                                     |\n",
        "| ----------------- | ------- | ---------- | ---------------------------------------------------------------------------------------------------------------------- |\n",
        "| 2022-01-10        | 0.4     | Malika     | Removed the readme for GitShare                                                                                        |\n",
        "| 2021-04-13        | 0.3     | Malika     | Deleted exercise \"Probability Bag\"                                                                                     |\n",
        "| 2020-08-26        | 0.2     | Lavanya    | Moved lab to course repo in GitLab                                                                                     |\n",
        "| 2020 -09 -04      | 0.2     | Arjun      | Under What is a function, added code/text to further demonstrate the functionality of the return statement             |\n",
        "| 2020 -09 -04      | 0.2     | Arjun      | Under Global Variables, modify the code block to try and print ‘internal_var’ - So a nameError message can be observed |\n",
        "| 2020 -09 -04      | 0.2     | Arjun      | Added section Collections and Functions                                                                                |\n",
        "| 2020 -09 -04      | 0.2     | Arjun      | Added exercise “Probability Bag”                                                                                       |\n",
        "\n",
        "<hr/>\n",
        "\n",
        "## <h3 align=\"center\"> © IBM Corporation 2020. All rights reserved. <h3/>\n"
      ]
    }
  ],
  "metadata": {
    "kernelspec": {
      "display_name": "Python 3",
      "language": "python",
      "name": "python3"
    },
    "language_info": {
      "codemirror_mode": {
        "name": "ipython",
        "version": 3
      },
      "file_extension": ".py",
      "mimetype": "text/x-python",
      "name": "python",
      "nbconvert_exporter": "python",
      "pygments_lexer": "ipython3",
      "version": "3.7.6"
    },
    "colab": {
      "provenance": [],
      "include_colab_link": true
    }
  },
  "nbformat": 4,
  "nbformat_minor": 0
}