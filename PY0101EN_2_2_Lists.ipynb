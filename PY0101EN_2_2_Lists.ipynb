{
  "cells": [
    {
      "cell_type": "markdown",
      "metadata": {
        "id": "view-in-github",
        "colab_type": "text"
      },
      "source": [
        "<a href=\"https://colab.research.google.com/github/Lilith-Sappho/More_Python_worksheets/blob/main/PY0101EN_2_2_Lists.ipynb\" target=\"_parent\"><img src=\"https://colab.research.google.com/assets/colab-badge.svg\" alt=\"Open In Colab\"/></a>"
      ]
    },
    {
      "cell_type": "markdown",
      "metadata": {
        "id": "aOgH-SWaa78B"
      },
      "source": [
        "<p style=\"text-align:center\">\n",
        "    <a href=\"https://skills.network/?utm_medium=Exinfluencer&utm_source=Exinfluencer&utm_content=000026UJ&utm_term=10006555&utm_id=NA-SkillsNetwork-Channel-SkillsNetworkCoursesIBMDeveloperSkillsNetworkPY0101ENSkillsNetwork19487395-2022-01-01\" target=\"_blank\">\n",
        "    <img src=\"https://cf-courses-data.s3.us.cloud-object-storage.appdomain.cloud/assets/logos/SN_web_lightmode.png\" width=\"200\" alt=\"Skills Network Logo\"  />\n",
        "    </a>\n",
        "</p>\n",
        "\n",
        "# Lists in Python\n",
        "\n",
        "Estimated time needed: **15** minutes\n",
        "\n",
        "## Objectives\n",
        "\n",
        "After completing this lab you will be able to:\n",
        "\n",
        "*   Perform list operations in Python, including indexing, list manipulation, and copy/clone list.\n"
      ]
    },
    {
      "cell_type": "markdown",
      "metadata": {
        "id": "-hjWGRpta78S"
      },
      "source": [
        "<h2>Table of Contents</h2>\n",
        "<div class=\"alert alert-block alert-info\" style=\"margin-thttps://op/?utm_medium=Exinfluencer&utm_source=Exinfluencer&utm_https://co/?utm_medium=Exinfluencer&utm_source=Exinfluencer&utm_content=000026UJ&utm_term=10006555&utm_id=NA-SkillsNetwork-Channel-SkillsNetworkCoursesIBMDeveloperSkillsNetworkPY0101ENSkillsNetwork19487395-2022-01-01ntent=000026UJ&utm_term=10006555&utm_id=NA-SkillsNetwork-Channel-SkillsNetworkCoursesIBMDeveloperSkillsNetworkPY0101ENSkillsNetwork19487395-2022-01-01: 20px\">\n",
        "    <ul>\n",
        "        <li>\n",
        "            <a href=\"https://#dataset\">About the Dataset</a>\n",
        "        </li>\n",
        "        <li>\n",
        "            <a href=\"https://#list\">Lists</a>\n",
        "            <ul>\n",
        "                <li><a href=\"https://index/?utm_medium=Exinfluencer&utm_source=Exinfluencer&utm_https://content/?utm_medium=Exinfluencer&utm_source=Exinfluencer&utm_content=000026UJ&utm_term=10006555&utm_id=NA-SkillsNetwork-Channel-SkillsNetworkCoursesIBMDeveloperSkillsNetworkPY0101ENSkillsNetwork19487395-2022-01-01=000026UJ&utm_term=10006555&utm_id=NA-SkillsNetwork-Channel-SkillsNetworkCoursesIBMDeveloperSkillsNetworkPY0101ENSkillsNetwork19487395-2022-01-01\">Indexing</a></li>\n",
        "                <li><a href=\"content\">List Content</a></li>\n",
        "                <li><a href=\"op\">List Operations</a></li>\n",
        "                <li><a href=\"co\">Copy and Clone List</a></li>\n",
        "            </ul>\n",
        "        </li>\n",
        "        <li>\n",
        "            <a href=\"https://#quiz\">Quiz on Lists</a>\n",
        "        </li>\n",
        "    </ul>\n",
        "\n",
        "</div>\n",
        "\n",
        "<hr>\n"
      ]
    },
    {
      "cell_type": "markdown",
      "metadata": {
        "id": "h7eOcvYqa78V"
      },
      "source": [
        "<h2 id=\"#dataset\">About the Dataset</h2>\n"
      ]
    },
    {
      "cell_type": "markdown",
      "metadata": {
        "id": "wUPTF5oAa78X"
      },
      "source": [
        "Imagine you received album recommendations from your friends and compiled all of the recommandations into a table, with specific information about each album.\n",
        "\n",
        "The table has one row for each movie and several columns:\n",
        "\n",
        "*   **artist** - Name of the artist\n",
        "*   **album** - Name of the album\n",
        "*   **released_year** - Year the album was released\n",
        "*   **length_min_sec** - Length of the album (hours,minutes,seconds)\n",
        "*   **genre** - Genre of the album\n",
        "*   **music_recording_sales_millions** - Music recording sales (millions in USD) on [SONG://DATABASE](http://www.song-database.com/?utm_medium=Exinfluencer&utm_source=Exinfluencer&utm_content=000026UJ&utm_term=10006555&utm_id=NA-SkillsNetwork-Channel-SkillsNetworkCoursesIBMDeveloperSkillsNetworkPY0101ENSkillsNetwork19487395-2022-01-01)\n",
        "*   **claimed_sales_millions** - Album's claimed sales (millions in USD) on [SONG://DATABASE](http://www.song-database.com/?utm_medium=Exinfluencer&utm_source=Exinfluencer&utm_content=000026UJ&utm_term=10006555&utm_id=NA-SkillsNetwork-Channel-SkillsNetworkCoursesIBMDeveloperSkillsNetworkPY0101ENSkillsNetwork19487395-2022-01-01)\n",
        "*   **date_released** - Date on which the album was released\n",
        "*   **soundtrack** - Indicates if the album is the movie soundtrack (Y) or (N)\n",
        "*   **rating_of_friends** - Indicates the rating from your friends from 1 to 10\n",
        "\n",
        "<br>\n",
        "<br>\n",
        "\n",
        "The dataset can be seen below:\n",
        "\n",
        "<font size=\"1\">\n",
        "<table font-size:xx-small>\n",
        "  <tr>\n",
        "    <th>Artist</th>\n",
        "    <th>Album</th> \n",
        "    <th>Released</th>\n",
        "    <th>Length</th>\n",
        "    <th>Genre</th> \n",
        "    <th>Music recording sales (millions)</th>\n",
        "    <th>Claimed sales (millions)</th>\n",
        "    <th>Released</th>\n",
        "    <th>Soundtrack</th>\n",
        "    <th>Rating (friends)</th>\n",
        "  </tr>\n",
        "  <tr>\n",
        "    <td>Michael Jackson</td>\n",
        "    <td>Thriller</td> \n",
        "    <td>1982</td>\n",
        "    <td>00:42:19</td>\n",
        "    <td>Pop, rock, R&B</td>\n",
        "    <td>46</td>\n",
        "    <td>65</td>\n",
        "    <td>30-Nov-82</td>\n",
        "    <td></td>\n",
        "    <td>10.0</td>\n",
        "  </tr>\n",
        "  <tr>\n",
        "    <td>AC/DC</td>\n",
        "    <td>Back in Black</td> \n",
        "    <td>1980</td>\n",
        "    <td>00:42:11</td>\n",
        "    <td>Hard rock</td>\n",
        "    <td>26.1</td>\n",
        "    <td>50</td>\n",
        "    <td>25-Jul-80</td>\n",
        "    <td></td>\n",
        "    <td>8.5</td>\n",
        "  </tr>\n",
        "    <tr>\n",
        "    <td>Pink Floyd</td>\n",
        "    <td>The Dark Side of the Moon</td> \n",
        "    <td>1973</td>\n",
        "    <td>00:42:49</td>\n",
        "    <td>Progressive rock</td>\n",
        "    <td>24.2</td>\n",
        "    <td>45</td>\n",
        "    <td>01-Mar-73</td>\n",
        "    <td></td>\n",
        "    <td>9.5</td>\n",
        "  </tr>\n",
        "    <tr>\n",
        "    <td>Whitney Houston</td>\n",
        "    <td>The Bodyguard</td> \n",
        "    <td>1992</td>\n",
        "    <td>00:57:44</td>\n",
        "    <td>Soundtrack/R&B, soul, pop</td>\n",
        "    <td>26.1</td>\n",
        "    <td>50</td>\n",
        "    <td>25-Jul-80</td>\n",
        "    <td>Y</td>\n",
        "    <td>7.0</td>\n",
        "  </tr>\n",
        "    <tr>\n",
        "    <td>Meat Loaf</td>\n",
        "    <td>Bat Out of Hell</td> \n",
        "    <td>1977</td>\n",
        "    <td>00:46:33</td>\n",
        "    <td>Hard rock, progressive rock</td>\n",
        "    <td>20.6</td>\n",
        "    <td>43</td>\n",
        "    <td>21-Oct-77</td>\n",
        "    <td></td>\n",
        "    <td>7.0</td>\n",
        "  </tr>\n",
        "    <tr>\n",
        "    <td>Eagles</td>\n",
        "    <td>Their Greatest Hits (1971-1975)</td> \n",
        "    <td>1976</td>\n",
        "    <td>00:43:08</td>\n",
        "    <td>Rock, soft rock, folk rock</td>\n",
        "    <td>32.2</td>\n",
        "    <td>42</td>\n",
        "    <td>17-Feb-76</td>\n",
        "    <td></td>\n",
        "    <td>9.5</td>\n",
        "  </tr>\n",
        "    <tr>\n",
        "    <td>Bee Gees</td>\n",
        "    <td>Saturday Night Fever</td> \n",
        "    <td>1977</td>\n",
        "    <td>1:15:54</td>\n",
        "    <td>Disco</td>\n",
        "    <td>20.6</td>\n",
        "    <td>40</td>\n",
        "    <td>15-Nov-77</td>\n",
        "    <td>Y</td>\n",
        "    <td>9.0</td>\n",
        "  </tr>\n",
        "    <tr>\n",
        "    <td>Fleetwood Mac</td>\n",
        "    <td>Rumours</td> \n",
        "    <td>1977</td>\n",
        "    <td>00:40:01</td>\n",
        "    <td>Soft rock</td>\n",
        "    <td>27.9</td>\n",
        "    <td>40</td>\n",
        "    <td>04-Feb-77</td>\n",
        "    <td></td>\n",
        "    <td>9.5</td>\n",
        "  </tr>\n",
        "</table></font>\n"
      ]
    },
    {
      "cell_type": "markdown",
      "metadata": {
        "id": "CQZA61URa78a"
      },
      "source": [
        "<hr>\n"
      ]
    },
    {
      "cell_type": "markdown",
      "metadata": {
        "id": "ofvNQylOa78c"
      },
      "source": [
        "<h2 id=\"list\">Lists</h2>\n"
      ]
    },
    {
      "cell_type": "markdown",
      "metadata": {
        "id": "zR4EnaRMa78d"
      },
      "source": [
        "<h3 id=\"index\">Indexing</h3>\n"
      ]
    },
    {
      "cell_type": "markdown",
      "metadata": {
        "id": "-SYLbym1a78f"
      },
      "source": [
        "We are going to take a look at lists in Python. A list is a sequenced collection of different objects such as integers, strings, and even other lists as well. The address of each element within a list is called an <b>index</b>. An index is used to access and refer to items within a list.\n"
      ]
    },
    {
      "cell_type": "markdown",
      "metadata": {
        "id": "WpBwH3pba78h"
      },
      "source": [
        "<img src=\"https://cf-courses-data.s3.us.cloud-object-storage.appdomain.cloud/IBMDeveloperSkillsNetwork-PY0101EN-SkillsNetwork/labs/Module%202/images/ListsIndex.png\" width=\"1000\" />\n"
      ]
    },
    {
      "cell_type": "markdown",
      "metadata": {
        "id": "26kScYNga78i"
      },
      "source": [
        "To create a list, type the list within square brackets <b>\\[ ]</b>, with your content inside the parenthesis and separated by commas. Let’s try it!\n"
      ]
    },
    {
      "cell_type": "code",
      "execution_count": 1,
      "metadata": {
        "colab": {
          "base_uri": "https://localhost:8080/"
        },
        "id": "5GOMdw9na78j",
        "outputId": "9d25b27f-d03a-472b-cf01-dfd259504c8d"
      },
      "outputs": [
        {
          "output_type": "execute_result",
          "data": {
            "text/plain": [
              "['Michael Jackson', 10.1, 1982]"
            ]
          },
          "metadata": {},
          "execution_count": 1
        }
      ],
      "source": [
        "# Create a list\n",
        "\n",
        "L = [\"Michael Jackson\", 10.1, 1982]\n",
        "L"
      ]
    },
    {
      "cell_type": "markdown",
      "metadata": {
        "id": "Dd71l3lca78m"
      },
      "source": [
        "We can use negative and regular indexing with a list:\n"
      ]
    },
    {
      "cell_type": "markdown",
      "metadata": {
        "id": "ffknLeRKa78n"
      },
      "source": [
        "<img src=\"https://cf-courses-data.s3.us.cloud-object-storage.appdomain.cloud/IBMDeveloperSkillsNetwork-PY0101EN-SkillsNetwork/labs/Module%202/images/ListsNeg.png\" width=\"1000\" />\n"
      ]
    },
    {
      "cell_type": "code",
      "execution_count": 4,
      "metadata": {
        "colab": {
          "base_uri": "https://localhost:8080/"
        },
        "id": "zTpX2vYma78n",
        "outputId": "4b610060-e815-4f5a-8680-aa3849a979cd"
      },
      "outputs": [
        {
          "output_type": "stream",
          "name": "stdout",
          "text": [
            "the same element using negative and positive indexing:\n",
            " Postive: Michael Jackson \n",
            " Negative: Michael Jackson\n",
            "the same element using negative and positive indexing:\n",
            " Postive: 10.1 \n",
            " Negative: 10.1\n",
            "the same element using negative and positive indexing :\n",
            " Positive: 1982 \n",
            " Negative: 1982\n"
          ]
        }
      ],
      "source": [
        "# Print the elements on each index\n",
        "\n",
        "print('the same element using negative and positive indexing:\\n Postive:',L[0],\n",
        "'\\n Negative:' , L[-3]  )\n",
        "print('the same element using negative and positive indexing:\\n Postive:',L[1],\n",
        "'\\n Negative:' , L[-2]  )\n",
        "print('the same element using negative and positive indexing :\\n Positive:',L[2], '\\n Negative:', L[-1] )"
      ]
    },
    {
      "cell_type": "markdown",
      "metadata": {
        "id": "XGixhD61a78o"
      },
      "source": [
        "<h3 id=\"content\">List Content</h3>\n"
      ]
    },
    {
      "cell_type": "markdown",
      "metadata": {
        "id": "rQGD47Npa78p"
      },
      "source": [
        "Lists can contain strings, floats, and integers. We can nest other lists, and we can also nest tuples and other data structures. The same indexing conventions apply for nesting:\n"
      ]
    },
    {
      "cell_type": "code",
      "execution_count": null,
      "metadata": {
        "id": "XbpfRRWIa78p"
      },
      "outputs": [],
      "source": [
        "# Sample List\n",
        "\n",
        "[\"Michael Jackson\", 10.1, 1982, [1, 2], (\"A\", 1)]"
      ]
    },
    {
      "cell_type": "markdown",
      "metadata": {
        "id": "t7jLj_nXa78q"
      },
      "source": [
        "<h3 id=\"op\">List Operations</h3>\n"
      ]
    },
    {
      "cell_type": "markdown",
      "metadata": {
        "id": "vBOJJyTSa78q"
      },
      "source": [
        "We can also perform slicing in lists. For example, if we want the last two elements, we use the following command:\n"
      ]
    },
    {
      "cell_type": "code",
      "execution_count": 7,
      "metadata": {
        "colab": {
          "base_uri": "https://localhost:8080/"
        },
        "id": "O0fEpcKya78q",
        "outputId": "f3557629-6219-47fb-86ff-3ece228663b8"
      },
      "outputs": [
        {
          "output_type": "execute_result",
          "data": {
            "text/plain": [
              "['Michael Jackson', 10.1, 1982, 'MJ', 1]"
            ]
          },
          "metadata": {},
          "execution_count": 7
        }
      ],
      "source": [
        "# Sample List\n",
        "\n",
        "L = [\"Michael Jackson\", 10.1,1982,\"MJ\",1]\n",
        "L"
      ]
    },
    {
      "cell_type": "markdown",
      "metadata": {
        "id": "Ae6zV4L0a78r"
      },
      "source": [
        "<img src=\"https://cf-courses-data.s3.us.cloud-object-storage.appdomain.cloud/IBMDeveloperSkillsNetwork-PY0101EN-SkillsNetwork/labs/Module%202/images/ListsSlice.png\" width=\"1000\">\n"
      ]
    },
    {
      "cell_type": "code",
      "execution_count": 8,
      "metadata": {
        "colab": {
          "base_uri": "https://localhost:8080/"
        },
        "id": "d6gRiH5aa78r",
        "outputId": "b7ac62a6-1206-4011-cd90-b294bd2ed2f9"
      },
      "outputs": [
        {
          "output_type": "execute_result",
          "data": {
            "text/plain": [
              "['MJ', 1]"
            ]
          },
          "metadata": {},
          "execution_count": 8
        }
      ],
      "source": [
        "# List slicing\n",
        "\n",
        "L[3:5]"
      ]
    },
    {
      "cell_type": "markdown",
      "metadata": {
        "id": "i0cQt4vQa78s"
      },
      "source": [
        "We can use the method <code>extend</code> to add new elements to the list:\n"
      ]
    },
    {
      "cell_type": "code",
      "execution_count": 9,
      "metadata": {
        "colab": {
          "base_uri": "https://localhost:8080/"
        },
        "id": "pL2ZiZs1a78s",
        "outputId": "f5e64fc8-6d4e-4a0b-9171-db8b4b220bb5"
      },
      "outputs": [
        {
          "output_type": "execute_result",
          "data": {
            "text/plain": [
              "['Michael Jackson', 10.2, 'pop', 10]"
            ]
          },
          "metadata": {},
          "execution_count": 9
        }
      ],
      "source": [
        "# Use extend to add elements to list\n",
        "\n",
        "L = [ \"Michael Jackson\", 10.2]\n",
        "L.extend(['pop', 10])\n",
        "L"
      ]
    },
    {
      "cell_type": "markdown",
      "metadata": {
        "id": "DN8siskNa78s"
      },
      "source": [
        "Another similar method is <code>append</code>. If we apply <code>append</code> instead of <code>extend</code>, we add one element to the list:\n"
      ]
    },
    {
      "cell_type": "code",
      "execution_count": 10,
      "metadata": {
        "colab": {
          "base_uri": "https://localhost:8080/"
        },
        "id": "v0FBu8fBa78t",
        "outputId": "5e71b817-636a-4954-d8b2-00eb8824cfdd"
      },
      "outputs": [
        {
          "output_type": "execute_result",
          "data": {
            "text/plain": [
              "['Michael Jackson', 10.2, ['pop', 10]]"
            ]
          },
          "metadata": {},
          "execution_count": 10
        }
      ],
      "source": [
        "# Use append to add elements to list\n",
        "\n",
        "L = [ \"Michael Jackson\", 10.2]\n",
        "L.append(['pop', 10])\n",
        "L"
      ]
    },
    {
      "cell_type": "markdown",
      "metadata": {
        "id": "s807jTGIa78t"
      },
      "source": [
        "Each time we apply a method, the list changes. If we apply <code>extend</code> we add two new elements to the list. The list <code>L</code> is then modified by adding two new elements:\n"
      ]
    },
    {
      "cell_type": "code",
      "execution_count": 11,
      "metadata": {
        "colab": {
          "base_uri": "https://localhost:8080/"
        },
        "id": "0cp2amNqa78u",
        "outputId": "17f70550-f894-40ed-e655-236f9c4a034e"
      },
      "outputs": [
        {
          "output_type": "execute_result",
          "data": {
            "text/plain": [
              "['Michael Jackson', 10.2, 'pop', 10]"
            ]
          },
          "metadata": {},
          "execution_count": 11
        }
      ],
      "source": [
        "# Use extend to add elements to list\n",
        "\n",
        "L = [ \"Michael Jackson\", 10.2]\n",
        "L.extend(['pop', 10])\n",
        "L"
      ]
    },
    {
      "cell_type": "markdown",
      "metadata": {
        "id": "sBpw4K14a78v"
      },
      "source": [
        "If we append the list  <code>\\['a','b']</code> we have one new element consisting of a nested list:\n"
      ]
    },
    {
      "cell_type": "code",
      "execution_count": 12,
      "metadata": {
        "colab": {
          "base_uri": "https://localhost:8080/"
        },
        "id": "omYgdcjMa78v",
        "outputId": "848c0139-4d51-4bf2-f45a-b2f6210873f7"
      },
      "outputs": [
        {
          "output_type": "execute_result",
          "data": {
            "text/plain": [
              "['Michael Jackson', 10.2, 'pop', 10, ['a', 'b']]"
            ]
          },
          "metadata": {},
          "execution_count": 12
        }
      ],
      "source": [
        "# Use append to add elements to list\n",
        "\n",
        "L.append(['a','b'])\n",
        "L"
      ]
    },
    {
      "cell_type": "markdown",
      "metadata": {
        "id": "7y6AzcAGa78w"
      },
      "source": [
        "As lists are mutable, we can change them. For example, we can change the first element as follows:\n"
      ]
    },
    {
      "cell_type": "code",
      "execution_count": 13,
      "metadata": {
        "colab": {
          "base_uri": "https://localhost:8080/"
        },
        "id": "7TivpxmMa78w",
        "outputId": "31b0a6df-d464-4854-d88d-cf8a9e022149"
      },
      "outputs": [
        {
          "output_type": "stream",
          "name": "stdout",
          "text": [
            "Before change: ['disco', 10, 1.2]\n",
            "After change: ['hard rock', 10, 1.2]\n"
          ]
        }
      ],
      "source": [
        "# Change the element based on the index\n",
        "\n",
        "A = [\"disco\", 10, 1.2]\n",
        "print('Before change:', A)\n",
        "A[0] = 'hard rock'\n",
        "print('After change:', A)"
      ]
    },
    {
      "cell_type": "markdown",
      "metadata": {
        "id": "_cfgvkF_a78x"
      },
      "source": [
        "We can also delete an element of a list using the <code>del</code> command:\n"
      ]
    },
    {
      "cell_type": "code",
      "execution_count": 14,
      "metadata": {
        "colab": {
          "base_uri": "https://localhost:8080/"
        },
        "id": "LYmWQIEQa78x",
        "outputId": "1301126a-9eb4-4530-f1bd-f95dc3da6796"
      },
      "outputs": [
        {
          "output_type": "stream",
          "name": "stdout",
          "text": [
            "Before change: ['hard rock', 10, 1.2]\n",
            "After change: [10, 1.2]\n"
          ]
        }
      ],
      "source": [
        "# Delete the element based on the index\n",
        "\n",
        "print('Before change:', A)\n",
        "del(A[0])\n",
        "print('After change:', A)"
      ]
    },
    {
      "cell_type": "markdown",
      "metadata": {
        "id": "zeox5m7Na78y"
      },
      "source": [
        "We can convert a string to a list using <code>split</code>.  For example, the method <code>split</code> translates every group of characters separated by a space into an element in a list:\n"
      ]
    },
    {
      "cell_type": "code",
      "execution_count": 15,
      "metadata": {
        "colab": {
          "base_uri": "https://localhost:8080/"
        },
        "id": "0_MAcKEYa78y",
        "outputId": "a5109d03-ea4e-464f-9084-940806a908d3"
      },
      "outputs": [
        {
          "output_type": "execute_result",
          "data": {
            "text/plain": [
              "['hard', 'rock']"
            ]
          },
          "metadata": {},
          "execution_count": 15
        }
      ],
      "source": [
        "# Split the string, default is by space\n",
        "\n",
        "'hard rock'.split()"
      ]
    },
    {
      "cell_type": "markdown",
      "metadata": {
        "id": "vi8pQv8ea78z"
      },
      "source": [
        "We can use the split function to separate strings on a specific character which we call a **delimiter**. We pass the character we would like to split on into the argument, which in this case is a comma.  The result is a list, and each element corresponds to a set of characters that have been separated by a comma:\n"
      ]
    },
    {
      "cell_type": "code",
      "execution_count": 16,
      "metadata": {
        "colab": {
          "base_uri": "https://localhost:8080/"
        },
        "id": "7L2FPf2za78z",
        "outputId": "f69c8a51-8def-49e3-a757-1832083cc644"
      },
      "outputs": [
        {
          "output_type": "execute_result",
          "data": {
            "text/plain": [
              "['L', 'I', 'L', 'I', 'T', 'H']"
            ]
          },
          "metadata": {},
          "execution_count": 16
        }
      ],
      "source": [
        "# Split the string by comma\n",
        "\n",
        "'L,I,L,I,T,H' .split(',')"
      ]
    },
    {
      "cell_type": "markdown",
      "metadata": {
        "id": "PaIuf1xEa78z"
      },
      "source": [
        "<h3 id=\"co\">Copy and Clone List</h3>\n"
      ]
    },
    {
      "cell_type": "markdown",
      "metadata": {
        "id": "dXr9F8v2a78z"
      },
      "source": [
        "When we set one variable <b>B</b> equal to <b>A</b>, both <b>A</b> and <b>B</b> are referencing the same list in memory:\n"
      ]
    },
    {
      "cell_type": "code",
      "execution_count": 17,
      "metadata": {
        "colab": {
          "base_uri": "https://localhost:8080/"
        },
        "id": "PThYcWV4a780",
        "outputId": "cf7c6cb0-5930-4274-fc64-f13be369ed1f"
      },
      "outputs": [
        {
          "output_type": "stream",
          "name": "stdout",
          "text": [
            "A: ['hard rock', 10, 1.2]\n",
            "B: ['hard rock', 10, 1.2]\n"
          ]
        }
      ],
      "source": [
        "# Copy (copy by reference) the list A\n",
        "\n",
        "A = [\"hard rock\", 10, 1.2]\n",
        "B = A\n",
        "print('A:', A)\n",
        "print('B:', B)"
      ]
    },
    {
      "cell_type": "markdown",
      "metadata": {
        "id": "xd1Mt8cna780"
      },
      "source": [
        "<img src=\"https://cf-courses-data.s3.us.cloud-object-storage.appdomain.cloud/IBMDeveloperSkillsNetwork-PY0101EN-SkillsNetwork/labs/Module%202/images/ListsRef.png\" width=\"1000\" align=\"center\">\n"
      ]
    },
    {
      "cell_type": "markdown",
      "metadata": {
        "id": "fZ0S766-a780"
      },
      "source": [
        "Initially, the value of the first element in <b>B</b> is set as \"hard rock\". If we change the first element in <b>A</b> to <b>\"banana\"</b>, we get an unexpected side effect.  As <b>A</b> and <b>B</b> are referencing the same list, if we change list <b>A</b>, then list <b>B</b> also changes. If we check the first element of <b>B</b> we get \"banana\" instead of \"hard rock\":\n"
      ]
    },
    {
      "cell_type": "code",
      "execution_count": 18,
      "metadata": {
        "colab": {
          "base_uri": "https://localhost:8080/"
        },
        "id": "04vX0P6Ha781",
        "outputId": "ae8b5194-f0ca-4fd2-82ba-cc9170f52299"
      },
      "outputs": [
        {
          "output_type": "stream",
          "name": "stdout",
          "text": [
            "B[0]: hard rock\n",
            "B[0]: banana\n"
          ]
        }
      ],
      "source": [
        "# Examine the copy by reference\n",
        "\n",
        "print('B[0]:', B[0])\n",
        "A[0] = \"banana\"\n",
        "print('B[0]:', B[0])"
      ]
    },
    {
      "cell_type": "markdown",
      "metadata": {
        "id": "UcGw4-Zqa781"
      },
      "source": [
        "This is demonstrated in the following figure:\n"
      ]
    },
    {
      "cell_type": "markdown",
      "metadata": {
        "id": "wE9dsdm_a781"
      },
      "source": [
        "<img src = \"https://cf-courses-data.s3.us.cloud-object-storage.appdomain.cloud/IBMDeveloperSkillsNetwork-PY0101EN-SkillsNetwork/labs/Module%202/images/ListsRefGif.gif\" width=\"1000\" />\n"
      ]
    },
    {
      "cell_type": "markdown",
      "metadata": {
        "id": "0IcuumhWa781"
      },
      "source": [
        "You can clone list **A** by using  the following syntax:\n"
      ]
    },
    {
      "cell_type": "code",
      "execution_count": 19,
      "metadata": {
        "colab": {
          "base_uri": "https://localhost:8080/"
        },
        "id": "xgXh8W-xa782",
        "outputId": "30478a89-c06a-49f6-9f12-2b7431f6cc56"
      },
      "outputs": [
        {
          "output_type": "execute_result",
          "data": {
            "text/plain": [
              "['banana', 10, 1.2]"
            ]
          },
          "metadata": {},
          "execution_count": 19
        }
      ],
      "source": [
        "# Clone (clone by value) the list A\n",
        "\n",
        "B = A[:]\n",
        "B"
      ]
    },
    {
      "cell_type": "markdown",
      "metadata": {
        "id": "0M1kVElDa782"
      },
      "source": [
        "Variable **B** references a new copy or clone of the original list. This is demonstrated in the following figure:\n"
      ]
    },
    {
      "cell_type": "markdown",
      "metadata": {
        "id": "1RnuoyP_a782"
      },
      "source": [
        "<img src=\"https://cf-courses-data.s3.us.cloud-object-storage.appdomain.cloud/IBMDeveloperSkillsNetwork-PY0101EN-SkillsNetwork/labs/Module%202/images/ListsVal.gif\" width=\"1000\" />\n"
      ]
    },
    {
      "cell_type": "markdown",
      "metadata": {
        "id": "0fa_rIb8a783"
      },
      "source": [
        "Now if you change <b>A</b>, <b>B</b> will not change:\n"
      ]
    },
    {
      "cell_type": "code",
      "execution_count": 20,
      "metadata": {
        "colab": {
          "base_uri": "https://localhost:8080/"
        },
        "id": "wY5WLCXya783",
        "outputId": "351edd1d-6553-4d51-a9e2-e986abd27158"
      },
      "outputs": [
        {
          "output_type": "stream",
          "name": "stdout",
          "text": [
            "B[0]: banana\n",
            "B[0]: banana\n"
          ]
        }
      ],
      "source": [
        "print('B[0]:', B[0])\n",
        "A[0] = \"hard rock\"\n",
        "print('B[0]:', B[0])"
      ]
    },
    {
      "cell_type": "markdown",
      "metadata": {
        "id": "BDz9fUmYa783"
      },
      "source": [
        "<h2 id=\"quiz\">Quiz on List</h2>\n"
      ]
    },
    {
      "cell_type": "markdown",
      "metadata": {
        "id": "Z23Da0Cna783"
      },
      "source": [
        "Create a list <code>a_list</code>, with the following elements <code>1</code>, <code>hello</code>, <code>\\[1,2,3]</code> and <code>True</code>.\n"
      ]
    },
    {
      "cell_type": "code",
      "execution_count": 24,
      "metadata": {
        "colab": {
          "base_uri": "https://localhost:8080/"
        },
        "id": "N0eX7Fjaa784",
        "outputId": "b020733a-01fc-4840-fcdd-7744d5aa1de6"
      },
      "outputs": [
        {
          "output_type": "execute_result",
          "data": {
            "text/plain": [
              "[1, 'hello', [1, 2, 3], 'True']"
            ]
          },
          "metadata": {},
          "execution_count": 24
        }
      ],
      "source": [
        " a_list= [1, \"hello\", [1,2,3], \"True\"]\n",
        "a_list\n"
      ]
    },
    {
      "cell_type": "markdown",
      "metadata": {
        "id": "OqqojB_Ra784"
      },
      "source": [
        "<details><summary>Click here for the solution</summary>\n",
        "\n",
        "```python\n",
        "a_list = [1, 'hello', [1, 2, 3] , True]\n",
        "a_list\n",
        "\n",
        "```\n",
        "\n",
        "</details>\n"
      ]
    },
    {
      "cell_type": "markdown",
      "metadata": {
        "id": "8mtD1omRa784"
      },
      "source": [
        "Find the value stored at index 1 of <code>a_list</code>.\n"
      ]
    },
    {
      "cell_type": "code",
      "execution_count": 25,
      "metadata": {
        "colab": {
          "base_uri": "https://localhost:8080/",
          "height": 36
        },
        "id": "A-d4WQhNa785",
        "outputId": "1a082ae3-70bf-4626-95a4-7d3b71a3f503"
      },
      "outputs": [
        {
          "output_type": "execute_result",
          "data": {
            "text/plain": [
              "'hello'"
            ],
            "application/vnd.google.colaboratory.intrinsic+json": {
              "type": "string"
            }
          },
          "metadata": {},
          "execution_count": 25
        }
      ],
      "source": [
        "a_list[1]\n"
      ]
    },
    {
      "cell_type": "markdown",
      "metadata": {
        "id": "tAgbUhHaa785"
      },
      "source": [
        "<details><summary>Click here for the solution</summary>\n",
        "\n",
        "```python\n",
        "a_list[1]\n",
        "\n",
        "```\n",
        "\n",
        "</details>\n"
      ]
    },
    {
      "cell_type": "markdown",
      "metadata": {
        "id": "yZq1CirRa786"
      },
      "source": [
        "Retrieve the elements stored at index 1, 2 and 3 of <code>a_list</code>.\n"
      ]
    },
    {
      "cell_type": "code",
      "execution_count": 26,
      "metadata": {
        "colab": {
          "base_uri": "https://localhost:8080/"
        },
        "id": "nldFk115a786",
        "outputId": "588df388-cb1b-4d88-82bf-11909aee982b"
      },
      "outputs": [
        {
          "output_type": "execute_result",
          "data": {
            "text/plain": [
              "['hello', [1, 2, 3], 'True']"
            ]
          },
          "metadata": {},
          "execution_count": 26
        }
      ],
      "source": [
        "# Write your code below and press Shift+Enter to execute\n",
        "a_list [1:4]\n"
      ]
    },
    {
      "cell_type": "markdown",
      "metadata": {
        "id": "_bspsbPMa786"
      },
      "source": [
        "<details><summary>Click here for the solution</summary>\n",
        "\n",
        "```python\n",
        "a_list[1:4]\n",
        "\n",
        "```\n",
        "\n",
        "</details>\n"
      ]
    },
    {
      "cell_type": "markdown",
      "metadata": {
        "id": "DO5h5VJ7a787"
      },
      "source": [
        "Concatenate the following lists <code>A = \\[1, 'a']</code> and <code>B = \\[2, 1, 'd']</code>:\n"
      ]
    },
    {
      "cell_type": "code",
      "execution_count": 29,
      "metadata": {
        "collapsed": true,
        "colab": {
          "base_uri": "https://localhost:8080/"
        },
        "id": "lHl3eWTGa787",
        "outputId": "fea23dce-d09a-467c-9689-fc17bac96a74"
      },
      "outputs": [
        {
          "output_type": "execute_result",
          "data": {
            "text/plain": [
              "[1, 'a', 2, 1, 'd']"
            ]
          },
          "metadata": {},
          "execution_count": 29
        }
      ],
      "source": [
        "# Write your code below and press Shift+Enter to execute\n",
        "A = [1, 'a']\n",
        "B = [2, 1, 'd']\n",
        "A+B\n",
        "\n"
      ]
    },
    {
      "cell_type": "markdown",
      "metadata": {
        "id": "0AP0UWVna788"
      },
      "source": [
        "<details><summary>Click here for the solution</summary>\n",
        "\n",
        "```python\n",
        "A = [1, 'a'] \n",
        "B = [2, 1, 'd']\n",
        "A + B\n",
        "\n",
        "```\n",
        "\n",
        "</details>\n"
      ]
    },
    {
      "cell_type": "markdown",
      "metadata": {
        "id": "VJpoJCBxa788"
      },
      "source": [
        "<hr>\n",
        "<h2>The last exercise!</h2>\n",
        "<p>Congratulations, you have completed your first lesson and hands-on lab in Python. \n",
        "<hr>\n"
      ]
    },
    {
      "cell_type": "markdown",
      "metadata": {
        "id": "CuFmSO2ga789"
      },
      "source": [
        "## Author\n",
        "\n",
        "<a href=\"https://www.linkedin.com/in/joseph-s-50398b136/?utm_medium=Exinfluencer&utm_source=Exinfluencer&utm_content=000026UJ&utm_term=10006555&utm_id=NA-SkillsNetwork-Channel-SkillsNetworkCoursesIBMDeveloperSkillsNetworkPY0101ENSkillsNetwork19487395-2022-01-01\" target=\"_blank\">Joseph Santarcangelo</a>\n",
        "\n",
        "## Other contributors\n",
        "\n",
        "<a href=\"https://www.linkedin.com/in/jiahui-mavis-zhou-a4537814a?utm_medium=Exinfluencer&utm_source=Exinfluencer&utm_content=000026UJ&utm_term=10006555&utm_id=NA-SkillsNetwork-Channel-SkillsNetworkCoursesIBMDeveloperSkillsNetworkPY0101ENSkillsNetwork19487395-2022-01-01\">Mavis Zhou</a>\n",
        "\n",
        "## Change Log\n",
        "\n",
        "| Date (YYYY-MM-DD) | Version | Changed By | Change Description                 |\n",
        "| ----------------- | ------- | ---------- | ---------------------------------- |\n",
        "| 2022-01-10        | 2.1     | Malika     | Removed the readme for GitShare    |\n",
        "| 2020-08-26        | 2.0     | Lavanya    | Moved lab to course repo in GitLab |\n",
        "|                   |         |            |                                    |\n",
        "|                   |         |            |                                    |\n",
        "\n",
        "## <h3 align=\"center\"> © IBM Corporation 2020. All rights reserved. <h3/>\n"
      ]
    }
  ],
  "metadata": {
    "kernelspec": {
      "display_name": "Python 3",
      "language": "python",
      "name": "python3"
    },
    "language_info": {
      "codemirror_mode": {
        "name": "ipython",
        "version": 3
      },
      "file_extension": ".py",
      "mimetype": "text/x-python",
      "name": "python",
      "nbconvert_exporter": "python",
      "pygments_lexer": "ipython3",
      "version": "3.7.6"
    },
    "colab": {
      "provenance": [],
      "include_colab_link": true
    }
  },
  "nbformat": 4,
  "nbformat_minor": 0
}